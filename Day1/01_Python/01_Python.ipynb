{
 "cells": [
  {
   "cell_type": "markdown",
   "metadata": {},
   "source": [
    "<div style=\"direction:rtl;line-height:300%;\">\n",
    "<font face=\"XB Zar\" size=5>\n",
    "<div align=center>\n",
    "<font face=\"IranNastaliq\" size=30>\n",
    "<p></p><p></p>\n",
    "به نام خدا\n",
    "<p></p>\n",
    "</font>\n",
    "<font color=#FF7500>\n",
    "دانشگاه صنعتی شریف - دانشکده مهندسی کامپیوتر\n",
    "</font>\n",
    "<p></p>\n",
    "<font color=blue>\n",
    "داده‌ساختارها و الگوریتم‌ها\n",
    "</font>\n",
    "<p></p>\n",
    "ورکشاپ پایتون\n",
    "</div>\n",
    "\n",
    "</font>\n",
    "<hr/>\n",
    "</div>"
   ]
  },
  {
   "cell_type": "markdown",
   "metadata": {},
   "source": [
    "<div class=\"persian\" style=\"direction:rtl\">\n",
    "<font face=\"XB Zar\" size=3>\n",
    "<h3>منابع کمکی:</h3>\n",
    "<ul>\n",
    "    <li><a href=\"http://docs.python.org\">مقالات سایت پایتون</a></li>\n",
    "    <li><a href=\"http://webcour.se\">درس</a> طراحی وب سجاد فولادی</li>\n",
    "    <li>قسمت‌های خوب پایتون از <a href=\"http://2013.es.pycon.org/media/Python_the_good_parts.pdf\">Miguel Araujo </a></li>\n",
    "    <li><a href=\"http://interactivepython.org/courselib/static/pythonds/index.html\">Problem Solving with Algorithms and Data Structures</a></li>\n",
    "    <li><a href=\"https://realpython.com/blog/python/primer-on-python-decorators/\">Primer on Python Decorators</a></li>\n",
    "</ul>\n",
    "</font>\n",
    "</div>"
   ]
  },
  {
   "cell_type": "code",
   "execution_count": 6,
   "metadata": {},
   "outputs": [
    {
     "name": "stdout",
     "output_type": "stream",
     "text": [
      "Hello world\n"
     ]
    }
   ],
   "source": [
    "print(\"Hello world\")"
   ]
  },
  {
   "cell_type": "markdown",
   "metadata": {},
   "source": [
    "<div class=\"persian\" style=\"direction:rtl\">\n",
    "<font face=\"XB Zar\" size=3>\n",
    "<h3>متغیر‌ها</h3>\n",
    "پایتون یک زبان نوع-پویا\n",
    "(dynamically typed) است.\n",
    "ولی با این حال یک زبان\n",
    "strongly-typed\n",
    "است و مفسر(interpreter)\n",
    "نوع متغیرها را میداند و در اجرا لحاظ میکند.\n",
    "<br>\n",
    "مثال: تفاوت عملگر جمع بین دو عدد و دو رشته\n",
    "--\n",
    "توابع type و isinstance\n",
    "</font>\n",
    "</div>"
   ]
  },
  {
   "cell_type": "code",
   "execution_count": 4,
   "metadata": {},
   "outputs": [
    {
     "name": "stdout",
     "output_type": "stream",
     "text": [
      "5\n"
     ]
    },
    {
     "ename": "TypeError",
     "evalue": "Can't convert 'int' object to str implicitly",
     "output_type": "error",
     "traceback": [
      "\u001b[1;31m---------------------------------------------------------------------------\u001b[0m",
      "\u001b[1;31mTypeError\u001b[0m                                 Traceback (most recent call last)",
      "\u001b[1;32m<ipython-input-4-d56035de5373>\u001b[0m in \u001b[0;36m<module>\u001b[1;34m()\u001b[0m\n\u001b[0;32m      6\u001b[0m \u001b[0ma\u001b[0m \u001b[1;33m=\u001b[0m \u001b[1;34m'2'\u001b[0m\u001b[1;33m\u001b[0m\u001b[0m\n\u001b[0;32m      7\u001b[0m \u001b[0mb\u001b[0m \u001b[1;33m=\u001b[0m \u001b[1;34m'3'\u001b[0m\u001b[1;33m\u001b[0m\u001b[0m\n\u001b[1;32m----> 8\u001b[1;33m \u001b[0mprint\u001b[0m\u001b[1;33m(\u001b[0m\u001b[0ma\u001b[0m\u001b[1;33m+\u001b[0m\u001b[1;36m2\u001b[0m\u001b[1;33m)\u001b[0m\u001b[1;33m\u001b[0m\u001b[0m\n\u001b[0m",
      "\u001b[1;31mTypeError\u001b[0m: Can't convert 'int' object to str implicitly"
     ]
    }
   ],
   "source": [
    "a = 2\n",
    "b = 3\n",
    "\n",
    "print(a+b)\n",
    "\n",
    "a = '2'\n",
    "b = '3'\n",
    "print(a+2)  # Error!\n"
   ]
  },
  {
   "cell_type": "code",
   "execution_count": 8,
   "metadata": {},
   "outputs": [
    {
     "name": "stdout",
     "output_type": "stream",
     "text": [
      "<class 'str'>\n",
      "False\n"
     ]
    }
   ],
   "source": [
    "a = '213312'\n",
    "print(type(a))\n",
    "print(isinstance(a, int))"
   ]
  },
  {
   "cell_type": "markdown",
   "metadata": {},
   "source": [
    "<div class=\"persian\" style=\"direction:rtl\">\n",
    "<font face=\"XB Zar\" size=3>\n",
    "<h3>برخی انواع مهم داده:</h3>\n",
    "<ul>\n",
    "    <li>Boolean یا همان: True و False (به بزرگ و کوچک بودن حروف دقت کنید)</li>\n",
    "    <li>اعداد: int, long, float, complex</li>\n",
    "    <li>رشته‌ها</li>\n",
    "    <li>None: معادل NULL در C++</li>\n",
    "    <li>List و Tuple</li>\n",
    "    <li>دیکشنری</li>\n",
    "</ul>\n",
    "</font>\n",
    "</div>"
   ]
  },
  {
   "cell_type": "markdown",
   "metadata": {},
   "source": [
    "<div class=\"persian\" style=\"direction:rtl\">\n",
    "<font face=\"XB Zar\" size=3>\n",
    "<h3>متغیرهای عددی</h3>\n",
    "اعداد صحیح، اعشاری، مختلط و عملیات حسابی بین آنها\n",
    "</font>\n",
    "</div>"
   ]
  },
  {
   "cell_type": "code",
   "execution_count": 9,
   "metadata": {},
   "outputs": [
    {
     "name": "stdout",
     "output_type": "stream",
     "text": [
      "9.5\n",
      "<class 'float'>\n",
      "1\n",
      "1.7142857142857142\n",
      "(3+3j)\n",
      "<class 'complex'>\n",
      "5j\n",
      "312791953184952432773037647427847997734252247042927663351793818343238523007334595314754865270114370908249 <class 'int'>\n"
     ]
    }
   ],
   "source": [
    "a = 6         # int\n",
    "b = 4\n",
    "d = 3.5       # float (there is no double)\n",
    "c1 = 1+2j     # complex\n",
    "c2 = 2+1j\n",
    "big_int = 123 ** 50\n",
    "\n",
    "print(a + d) \n",
    "print(type(a + d))\n",
    "\n",
    "print(a // b)   # int division\n",
    "print(a / d)\n",
    "\n",
    "print(c1 + c2) # complex addition\n",
    "print(type(c1 + c2))\n",
    "\n",
    "print(c1 * c2) # complex multiplication\n",
    "\n",
    "print(big_int, type(big_int)) # python has big-integers?"
   ]
  },
  {
   "cell_type": "markdown",
   "metadata": {},
   "source": [
    "<div class=\"persian\" style=\"direction:rtl\">\n",
    "<font face=\"XB Zar\" size=3>\n",
    "<h3>رشته ها</h3>\n",
    "<ul>\n",
    "    <li>رشته ها و کارکتر ها</li>\n",
    "    <li>گیومه تکی و دوتایی</li>\n",
    "    <li>دسترسی به زیررشته: slicing یکی از قابلیت‌های بسیار مفید در پایتون است.\n",
    "\n",
    "</li>\n",
    "\n",
    "</ul>\n",
    "\n",
    "\n",
    "</font>\n",
    "</div>"
   ]
  },
  {
   "cell_type": "code",
   "execution_count": 10,
   "metadata": {
    "scrolled": true
   },
   "outputs": [
    {
     "name": "stdout",
     "output_type": "stream",
     "text": [
      "s1: hello guys, i'm a string!\n",
      "s2: hi, i'm a string \n",
      " \ttoo!\n",
      "s3: i'm a multiline\n",
      "string!\n",
      "s4: i\"m another string\n",
      "haha haha haha \n",
      "number 2\n"
     ]
    }
   ],
   "source": [
    "s1 = 'hello guys, i\\'m a string!'\n",
    "s2 = \"hi, i'm a string \\n \\ttoo!\"\n",
    "s3 = \"\"\"i'm a multiline\n",
    "string!\"\"\"\n",
    "s4 = 'i\"m another st\\\n",
    "ring'\n",
    "\n",
    "print('s1: ' + s1)\n",
    "print('s2: ' + s2)\n",
    "print('s3: ' + s3)\n",
    "print('s4: ' + s4)\n",
    "print\n",
    "print('haha ' * 3)  # no comment\n",
    "# print('number ' + 2)-> TypeError:\n",
    "#  --> cannot concatenate 'str' and 'int' objects\n",
    "print('number ' + str(2))"
   ]
  },
  {
   "cell_type": "code",
   "execution_count": 26,
   "metadata": {},
   "outputs": [
    {
     "name": "stdout",
     "output_type": "stream",
     "text": [
      "h <class 'str'>\n",
      "chant\n",
      "u\n",
      "cat a\n",
      "numedohk erod midrak maj hsek kaday atnahc\n"
     ]
    }
   ],
   "source": [
    "s = 'chanta yadak kesh jam kardim dore khodemun'\n",
    "\n",
    "print(s[1], type(s[1]))\n",
    "print(s[0:5])\n",
    "print(s[-2])\n",
    "print(s[0:9:2])\n",
    "print(s[-1::-1])"
   ]
  },
  {
   "cell_type": "markdown",
   "metadata": {},
   "source": [
    "<div class=\"persian\" style=\"direction:rtl\">\n",
    "<font face=\"XB Zar\" size=3>\n",
    "<h3>مساله</h3>\n",
    "<ul>\n",
    "    <li>یک رشته و دو عدد a و b بگیرد و زیر رشته از a تا b رشته اولیه را چاپ کند\n",
    "    (شامل b نباشد)\n",
    "    </li>\n",
    "    <li>ممکن است b از a کوچکتر باشد که در آن صورت باید معکوس زیررشته از a تا b خروجی داده شود\n",
    "    (کماکان شامل b نباشد)\n",
    "    </li>\n",
    "\n",
    "\n",
    "</ul>\n",
    "\n",
    "\n",
    "</font>\n",
    "</div>"
   ]
  },
  {
   "cell_type": "code",
   "execution_count": null,
   "metadata": {},
   "outputs": [],
   "source": []
  },
  {
   "cell_type": "markdown",
   "metadata": {},
   "source": [
    "<div class=\"persian\" style=\"direction:rtl\">\n",
    "<font face=\"XB Zar\" size=3>\n",
    "<h3>مباحث پیشرفته در رشته</h3>\n",
    "رشته های فرمت دار\n",
    "</font>\n",
    "</div>"
   ]
  },
  {
   "cell_type": "code",
   "execution_count": 9,
   "metadata": {},
   "outputs": [
    {
     "ename": "TypeError",
     "evalue": "'str' object does not support item assignment",
     "output_type": "error",
     "traceback": [
      "\u001b[0;31m---------------------------------------------------------------------------\u001b[0m",
      "\u001b[0;31mTypeError\u001b[0m                                 Traceback (most recent call last)",
      "\u001b[0;32m<ipython-input-9-f6ce0b004df2>\u001b[0m in \u001b[0;36m<module>\u001b[0;34m()\u001b[0m\n\u001b[1;32m      1\u001b[0m \u001b[0muser\u001b[0m \u001b[0;34m=\u001b[0m \u001b[0;34m'mahdi'\u001b[0m\u001b[0;34m\u001b[0m\u001b[0m\n\u001b[0;32m----> 2\u001b[0;31m \u001b[0muser\u001b[0m\u001b[0;34m[\u001b[0m\u001b[0;36m0\u001b[0m\u001b[0;34m]\u001b[0m \u001b[0;34m=\u001b[0m \u001b[0;34m'M'\u001b[0m\u001b[0;34m\u001b[0m\u001b[0m\n\u001b[0m\u001b[1;32m      3\u001b[0m \u001b[0mprint\u001b[0m\u001b[0;34m(\u001b[0m\u001b[0;34m'hello %s, welcome!'\u001b[0m \u001b[0;34m%\u001b[0m \u001b[0muser\u001b[0m\u001b[0;34m)\u001b[0m\u001b[0;34m\u001b[0m\u001b[0m\n\u001b[1;32m      4\u001b[0m \u001b[0mprint\u001b[0m\u001b[0;34m(\u001b[0m\u001b[0;34m'hello {}, welcome!'\u001b[0m\u001b[0;34m.\u001b[0m\u001b[0mformat\u001b[0m\u001b[0;34m(\u001b[0m\u001b[0muser\u001b[0m\u001b[0;34m)\u001b[0m\u001b[0;34m)\u001b[0m\u001b[0;34m\u001b[0m\u001b[0m\n\u001b[1;32m      5\u001b[0m \u001b[0mprint\u001b[0m\u001b[0;34m(\u001b[0m\u001b[0;34m'hello {user}, {greeting}!'\u001b[0m\u001b[0;34m.\u001b[0m\u001b[0mformat\u001b[0m\u001b[0;34m(\u001b[0m\u001b[0muser\u001b[0m\u001b[0;34m=\u001b[0m\u001b[0muser\u001b[0m\u001b[0;34m,\u001b[0m \u001b[0mgreeting\u001b[0m\u001b[0;34m=\u001b[0m\u001b[0;34m'welcome'\u001b[0m\u001b[0;34m)\u001b[0m\u001b[0;34m.\u001b[0m\u001b[0mupper\u001b[0m\u001b[0;34m(\u001b[0m\u001b[0;34m)\u001b[0m\u001b[0;34m)\u001b[0m\u001b[0;34m\u001b[0m\u001b[0m\n",
      "\u001b[0;31mTypeError\u001b[0m: 'str' object does not support item assignment"
     ]
    }
   ],
   "source": [
    "user = 'mahdi'\n",
    "# user[0] = 'M' # Uncomment this line to see what happens! \n",
    "print('hello %s, welcome!' % user)\n",
    "print('hello {}, welcome!'.format(user))\n",
    "print('hello {user}, {greeting}!'.format(user=user, greeting='welcome').upper())"
   ]
  },
  {
   "cell_type": "markdown",
   "metadata": {},
   "source": [
    "<div class=\"persian\" style=\"direction:rtl\">\n",
    "<font face=\"XB Zar\" size=3>\n",
    "<h3>بلاک‌ها</h3>\n",
    "نحوه‌ی indent کردن کد (تورفتگی کد) \n",
    "در پایتون بلاک‌ها را از یکدیگر جدا می‌کند.\n",
    "\n",
    "یعنی پایتون شما را مجبور می‌کند که \n",
    "نحوه‌ی خاصی از تورفتگی‌های کد را استفاده کنید و همانند زبان‌های دیگر این مسئله در دست برنامه‌نویس نیست.\n",
    "<br/>\n",
    "هر tab یا تعدادی space می‌تواند یک مرحله تورفتگی را نشان بدهد.\n",
    "پس شما می‌توانید به انتخاب خودتان از space یا tab برای جدا کردن بلاک‌ها از یکدیگر استفاده کنید (در واقع در پایتون۲ هر ۸ space برابر یک tab است)\n",
    "اما بهتر است که این دو روش را با هم استفاده نکنید. به این دلیل که هم خوانایی کد را به شدت پایین می‌آورد و هم ترکیب کردن دو کد مختلف که یکی از tab و دیگری از space استفاده می‌کند بسیار می‌تواند سخت باشد. همچنین توصیه می‌شود فقط از space برای این کار استفاده کنید.\n",
    "<br/>\n",
    " با اضافه‌کردن یک مرحله تورفتگی، یک بلاک درونی جدید شروع می‌شود و با حذف کردن این تورفتگی بلاک قبلی تمام می‌شود.\n",
    " همیشه وقتی باید یک بلاک جدید شروع شود، یک کاراکتر دونقطه (:) حتما در انتهای خط قبلی آن وجود دارد.\n",
    " <br/>\n",
    " دستوراتی که بعدشان باید یک بلاک جدید شروع شود:\n",
    "<span class=\"codeM\">if و else و for و while و تعریف تابع (def) و ...</span>\n",
    "<br/>\n",
    "دقت کنید که یک بلاک نمی‌تواند هرگز خالی باشد. پس اگر به هر دلیلی بلاک خالی شد، می‌توانید از کلمه‌ی کلیدی\n",
    "<span class=\"codeM\">pass</span>\n",
    "برای خالی نماندن بلاک استفاده کنید.\n",
    "</font>\n",
    "</div>"
   ]
  },
  {
   "cell_type": "markdown",
   "metadata": {},
   "source": [
    "<div class=\"persian\" style=\"direction:rtl\">\n",
    "<font face=\"XB Zar\" size=3>\n",
    "<h3>ساختار شرطی</h3>\n",
    "if\n",
    "درست همانطوری که فکر می‌کنید کار می‌کند، فقط با این تفاوت که نیازی نیست دور گزاره‌ی شرطی آن پرانتز بگذارید (گذاشتن آن هم مانعی ندارد). فقط یادتان نرود که در پایان این دستور باید یک کاراکتر دونقطه (:) نوشته شده و در خط بعدی آن یک بلاک جدید شروع شود.\n",
    "<br/>\n",
    "همچنین در پایتون\n",
    "else if\n",
    "نداریم و به جای آن باید از کلمه‌ی کلیدی \n",
    "<span class=\"codeM\">elif</span>\n",
    "استفاده کنید.\n",
    "<br/>\n",
    "همچنین همانند بقیه‌ی زبان‌ها گزاره‌های and و or به صورت\n",
    "اتصال‌کوتاه (short-circuit)\n",
    "اجرا می‌شوند.\n",
    "</font>\n",
    "</div>"
   ]
  },
  {
   "cell_type": "markdown",
   "metadata": {},
   "source": [
    "<div class=\"persian\" style=\"direction:rtl\">\n",
    "<font face=\"XB Zar\" size=3>\n",
    "<h3>مقدار True و False انواع پایه در گزاره‌های شرطی</h3>\n",
    "    مقادیر زیر در پایتون در یک گزاره‌ی شرطی مقدار False دارند:\n",
    "    <ul>\n",
    "        <li>False</li>\n",
    "        <li>None</li>\n",
    "        <li>صفر عددی: 0، 0.0، 0j</li>\n",
    "        <li>یک دنباله (مثلا رشته) یا مجموعه یا \n",
    "        dict\n",
    "        خالی: ''، \"\"، {}، []، () و غیره</li>\n",
    "    </ul>\n",
    "    هر چیز دیگری مقدار True می‌گیرد.\n",
    "</font>\n",
    "</div>"
   ]
  },
  {
   "cell_type": "code",
   "execution_count": 10,
   "metadata": {
    "scrolled": true
   },
   "outputs": [
    {
     "name": "stdout",
     "output_type": "stream",
     "text": [
      "a is greater than or equal to 5 and less than 10\n",
      "no error was thrown\n"
     ]
    }
   ],
   "source": [
    "a = 8\n",
    "if a < 5:\n",
    "    pass\n",
    "elif a < 10:  # this is okay too, but why bother?\n",
    "    print('a is greater than or equal to 5 and less than 10')\n",
    "else:\n",
    "    print('a is greater than or equal to 10')\n",
    "\n",
    "if a < 10 or (2/0):\n",
    "    # the second one must throw a division by zero exception\n",
    "    print('no error was thrown')\n",
    "    # obviously or (also and) is short-circuited"
   ]
  },
  {
   "cell_type": "markdown",
   "metadata": {},
   "source": [
    "<div class=\"persian\"style=\"direction:rtl\">\n",
    "<font face=\"XB Zar\" size=3>\n",
    "<h3>حلقه‌ها</h3>\n",
    "در پایتون دو حلقه‌ی\n",
    "<span class=\"codeM\">for, while</span>\n",
    "را داریم.\n",
    "<br/>\n",
    "البته حلقه‌ی\n",
    "for\n",
    "کمی با زبان‌های دیگر متفاوت است. شما فقط می‌توانید روی یک لیست یا یک شی پیمایش‌شونده\n",
    "(iterable)\n",
    "حلقه اجرا کنید.\n",
    "<br/>\n",
    "همچنین حلقه‌ها می‌توانند یک عبارت\n",
    "<span class=\"codeM\">عبارات break و continue هم مشابه با زبان‌های برنامه نویسی که قبلا دیده اید در حلقه ها قابل استفاده اند</span>\n",
    "</font>\n",
    "</div>"
   ]
  },
  {
   "cell_type": "code",
   "execution_count": 41,
   "metadata": {},
   "outputs": [
    {
     "name": "stdout",
     "output_type": "stream",
     "text": [
      "counting .. 5\n",
      "counting .. 4\n",
      "counting .. 3\n",
      "counting .. 2\n",
      "counting .. 1\n",
      "<class 'range'>\n",
      "0 1 2 3 4 \n",
      "0,1,2,3,4,\n",
      "10 8 6 4 2 "
     ]
    }
   ],
   "source": [
    "cnt = 5\n",
    "while cnt > 0:\n",
    "    print('counting .. ' + str(cnt))\n",
    "    cnt -= 1  # note: cnt-- or cnt++ do not work!\n",
    "\n",
    "for i in range(5):\n",
    "    print(i, end=' ')\n",
    "    \n",
    "print()\n",
    "for i in range(0, 5):\n",
    "    print(i, end=',')\n",
    "    \n",
    "print()    \n",
    "for i in range(10, 1, -2):\n",
    "    print(i, end=' ')"
   ]
  },
  {
   "cell_type": "markdown",
   "metadata": {
    "collapsed": true
   },
   "source": [
    "<div class=\"persian\" style=\"direction:rtl\">\n",
    "<font face=\"XB Zar\" size=3>\n",
    "<h3>مساله یک</h3>\n",
    "<ul>\n",
    "    <li>تا زمانی که عدد وارد شده شده اول است ورودی بگیرد و هر عددی که ورودی می‌گیرد را بلافاصله در خروجی  وگرنه برنامه را قطع کند</li>\n",
    "</ul>\n",
    "\n",
    "\n",
    "</font>\n",
    "</div>"
   ]
  },
  {
   "cell_type": "code",
   "execution_count": null,
   "metadata": {},
   "outputs": [],
   "source": [
    "from src.tests.tester import tester\n",
    "\n",
    "\n",
    "def primeInput(s, a, b):\n",
    "    # Implement your code here...\n",
    "    # Later in this lecture, you'll become familiar with `def` syntax\n",
    "    pass\n",
    "\n",
    "tester(\"substring\", substring)"
   ]
  },
  {
   "cell_type": "markdown",
   "metadata": {},
   "source": [
    "<div class=\"persian\" style=\"direction:rtl\">\n",
    "<font face=\"XB Zar\" size=3>\n",
    "<h3>مساله دو</h3>\n",
    "<ul>\n",
    "    <li>دو رشته n حرفی دریافت کند و یک رشته n حرفی شامل حروف بزرگتر هر جایگاه خروجی دهد</li>\n",
    "    <li>مثال: رشته های ورودی abcd و yrea هستند و رشته خروجی yred خواهد بود</li>\n",
    "\n",
    "\n",
    "</ul>\n",
    "\n",
    "\n",
    "</font>\n",
    "</div>"
   ]
  },
  {
   "cell_type": "code",
   "execution_count": 43,
   "metadata": {},
   "outputs": [
    {
     "name": "stdout",
     "output_type": "stream",
     "text": [
      "abcd\n",
      "yrea\n",
      "yred\n"
     ]
    }
   ],
   "source": [
    "a = input()\n",
    "b = input()\n",
    "s = \"\"\n",
    "\n",
    "for i in range(len(a)):\n",
    "    s += a[i] if a[i] > b[i] else b[i]\n",
    "    \n",
    "print(s)"
   ]
  },
  {
   "cell_type": "markdown",
   "metadata": {},
   "source": [
    "<div class=\"persian\" style=\"direction:rtl\">\n",
    "<font face=\"XB Zar\" size=3>\n",
    "<h3>مساله سه</h3>\n",
    "<ul>\n",
    "    <li>دو عدد n و m بگیرید و الگوی n در m زیر را چاپ کنید  </li>\n",
    "    <li>به عنوان مثال برای n=12 و m=10  </li>\n",
    "\n",
    "\n",
    "\n",
    "</ul>\n",
    "</font>\n",
    "</div>"
   ]
  },
  {
   "cell_type": "code",
   "execution_count": 45,
   "metadata": {},
   "outputs": [
    {
     "name": "stdout",
     "output_type": "stream",
     "text": [
      "12\n",
      "11\n",
      "**  **  ** \n",
      "**  **  ** \n",
      "  **  **  *\n",
      "  **  **  *\n",
      "**  **  ** \n",
      "**  **  ** \n",
      "  **  **  *\n",
      "  **  **  *\n",
      "**  **  ** \n",
      "**  **  ** \n",
      "  **  **  *\n",
      "  **  **  *\n"
     ]
    }
   ],
   "source": [
    "\"\"\"\n",
    "example for n=12, m=10\n",
    "\n",
    "**  **  **\n",
    "**  **  **\n",
    "  **  **  \n",
    "  **  **  \n",
    "**  **  **\n",
    "**  **  **\n",
    "  **  **  \n",
    "  **  **  \n",
    "**  **  **\n",
    "**  **  **\n",
    "  **  **  \n",
    "  **  **  \n",
    "\n",
    "\"\"\"\n",
    "n = int(input())\n",
    "m = int(input())\n",
    "\n",
    "for i in range(n):\n",
    "    for j in range(m):\n",
    "        if (i//2 + j//2) % 2:\n",
    "            print(' ', end='')\n",
    "        else:\n",
    "            print('*', end='')\n",
    "    print()"
   ]
  },
  {
   "cell_type": "markdown",
   "metadata": {},
   "source": [
    "<div class=\"persian\" style=\"direction:rtl\">\n",
    "<font face=\"XB Zar\" size=3>\n",
    "<h3>لیست‌ها</h3>\n",
    "لیست‌های پایتون درست مثل vector (آرایه‌های با طول متغیر) در C++ یا Java اند.\n",
    "<br/>\n",
    "مثال: دسترسی جزیی به لیست -- پیمایش لیست‌ها در حلقه -- تعدادی تابع کاربردی در لیست\n",
    "</font>\n",
    "</div>\n"
   ]
  },
  {
   "cell_type": "code",
   "execution_count": 49,
   "metadata": {
    "scrolled": false
   },
   "outputs": [
    {
     "ename": "IndexError",
     "evalue": "list assignment index out of range",
     "output_type": "error",
     "traceback": [
      "\u001b[1;31m---------------------------------------------------------------------------\u001b[0m",
      "\u001b[1;31mIndexError\u001b[0m                                Traceback (most recent call last)",
      "\u001b[1;32m<ipython-input-49-d00060c3da14>\u001b[0m in \u001b[0;36m<module>\u001b[1;34m()\u001b[0m\n\u001b[0;32m      4\u001b[0m      5,]\n\u001b[0;32m      5\u001b[0m \u001b[1;33m\u001b[0m\u001b[0m\n\u001b[1;32m----> 6\u001b[1;33m \u001b[0ml\u001b[0m\u001b[1;33m[\u001b[0m\u001b[1;33m-\u001b[0m\u001b[1;36m10\u001b[0m\u001b[1;33m]\u001b[0m \u001b[1;33m=\u001b[0m \u001b[1;36m10\u001b[0m\u001b[1;33m\u001b[0m\u001b[0m\n\u001b[0m\u001b[0;32m      7\u001b[0m \u001b[1;31m#  you can break the lines that are constrined by [] or () or {}\u001b[0m\u001b[1;33m\u001b[0m\u001b[1;33m\u001b[0m\u001b[0m\n\u001b[0;32m      8\u001b[0m \u001b[1;31m# it can be a very good tool for increasing readability\u001b[0m\u001b[1;33m\u001b[0m\u001b[1;33m\u001b[0m\u001b[0m\n",
      "\u001b[1;31mIndexError\u001b[0m: list assignment index out of range"
     ]
    }
   ],
   "source": [
    "l = [6, 2,\n",
    "     10,\n",
    "     3,\n",
    "     5,]\n",
    "\n",
    "l[-10] = 10\n",
    "#  you can break the lines that are constrined by [] or () or {}\n",
    "# it can be a very good tool for increasing readability\n",
    "     \n",
    "#  also you can leave the last colon (,) be, it doesn't do any harm\n",
    "# it's not necessary either\n",
    "\n",
    "print('length of l is: ' + str(len(l)))\n",
    "\n",
    "print(type(l[0]), type(l))     # the first item\n",
    "print(l[-1])    # the last item\n",
    "print(l[1:3])   # only the second and third item\n",
    "print(l[1:-1])  # everything but the first and the last item\n",
    "print(l[-1::-2])  # everything but the first and the last item\n",
    "print(l[:3])    # the first 3 items\n",
    "print(l[-2:])   # the last 2 items\n",
    "print(l[0:100]) # no error! the whole list is returned"
   ]
  },
  {
   "cell_type": "code",
   "execution_count": 4,
   "metadata": {},
   "outputs": [
    {
     "name": "stdout",
     "output_type": "stream",
     "text": [
      "0th value is: 2\n",
      "1th value is: 5\n",
      "2th value is: 7\n",
      "3th value is: 3\n",
      "4th value is: 10\n"
     ]
    }
   ],
   "source": [
    "l = [2, 5, 7, 3, 10]\n",
    "for i, value in enumerate(l):  # enumerate is like zip(0..n-1, list)\n",
    "    print('%dth value is:' % i, value)"
   ]
  },
  {
   "cell_type": "code",
   "execution_count": 7,
   "metadata": {},
   "outputs": [
    {
     "name": "stdout",
     "output_type": "stream",
     "text": [
      "[34, 4, 2, 4, 5, 7, 10, 34]\n",
      "[2, 4, 4, 5, 7, 10, 34, 34]\n",
      "[34, 34, 10, 7, 5, 4, 4, 2]\n",
      "[34, 34, 10, 7, 5, 4, 4, 2]\n",
      "[2, 4, 4, 4, 5, 7, 10, 34, 34, 34]\n",
      "1\n",
      "[1, 2, 3, 4, 5, 6]\n",
      "[34, 34, 10, 7, 5, 4, 4, 2, 4, 34]\n",
      "[34, 34, 10, 7, 5, 4, 4, 2, 4, 34]\n"
     ]
    }
   ],
   "source": [
    "l.reverse()\n",
    "print(l)        # list is reversed\n",
    "l.sort()\n",
    "print(l)        # list is sorted\n",
    "l.sort(reverse=True)\n",
    "print(l)        # list is sorted in reverse order\n",
    "\n",
    "if 3 in l:\n",
    "    l.remove(3)\n",
    "print(l)\n",
    "\n",
    "l.append(4)\n",
    "l += [34]\n",
    "\n",
    "print(sorted(l))\n",
    "\n",
    "print(l.count(2))\n",
    "\n",
    "print([1, 2, 3] + [4, 5, 6])"
   ]
  },
  {
   "cell_type": "code",
   "execution_count": 57,
   "metadata": {},
   "outputs": [
    {
     "name": "stdout",
     "output_type": "stream",
     "text": [
      "welcome to HELL!\n"
     ]
    }
   ],
   "source": [
    "s = 'hello, welcome to python programming!'\n",
    "# string also have slicing!\n",
    "print(s[s.find('w'):s.find('w')+7] + ' to ' + s[:4].upper()+ '!')"
   ]
  },
  {
   "cell_type": "markdown",
   "metadata": {},
   "source": [
    "<div class=\"persian\" style=\"direction:rtl\">\n",
    "<font face=\"XB Zar\" size=3>\n",
    "<h3>مساله یک</h3>\n",
    "<ul>\n",
    "    <li>یک عدد n از ورودی بگیرید سپس در n خط بعدی اعداد یک دنباله را ورودی بگیرید. در نهایت این آرایه را به روش حبابی مرتب کنید</li>\n",
    "</ul>\n",
    "</div>\n"
   ]
  },
  {
   "cell_type": "code",
   "execution_count": 58,
   "metadata": {},
   "outputs": [
    {
     "name": "stdout",
     "output_type": "stream",
     "text": [
      "5\n",
      "19\n",
      "2\n",
      "-1\n",
      "3\n",
      "4\n",
      "[-1, 2, 3, 4, 19]\n"
     ]
    }
   ],
   "source": [
    "a = []\n",
    "n = int(input())\n",
    "\n",
    "for i in range(n):\n",
    "    a.append(int(input()))\n",
    "    \n",
    "for i in range(n):\n",
    "    for j in range(n-i-1):\n",
    "        if a[j] > a[j+1]:\n",
    "            a[j], a[j+1] = a[j+1], a[j]\n",
    "\n",
    "print(a)"
   ]
  },
  {
   "cell_type": "markdown",
   "metadata": {},
   "source": [
    "<div class=\"persian\" style=\"direction:rtl\">\n",
    "<font face=\"XB Zar\" size=3>\n",
    "<h3>مساله دو</h3>\n",
    "<ul>\n",
    "<li>دو آرایه n عضوی در نظر بگیرید و یک آرایه دو بعدی n در 2 از روی آن دو آٰرایه بسازید</li>\n",
    "</ul>\n",
    "</div>\n"
   ]
  },
  {
   "cell_type": "code",
   "execution_count": 75,
   "metadata": {},
   "outputs": [
    {
     "name": "stdout",
     "output_type": "stream",
     "text": [
      "1 5\n",
      "2 1\n",
      "3 2\n",
      "4 3\n",
      "[[1, 5], [2, 1], [3, 2], [4, 3]]\n"
     ]
    }
   ],
   "source": [
    "a = [1, 2, 3, 4]\n",
    "b = [5, 1, 2, 3] \n",
    "\n",
    "output = [[a[i], b[i]] for i in range(len(a))]\n",
    "\n",
    "#for i in range(len(a)):\n",
    "#    output += [[a[i], b[i]]]\n",
    "\n",
    "for i, j in output:\n",
    "    print(i, j)\n",
    "\n",
    "print(output)\n",
    "# output = [[1, 5], [2, 1], [3, 2], [4, 3]]"
   ]
  },
  {
   "cell_type": "markdown",
   "metadata": {},
   "source": [
    "<div class=\"persian\" style=\"direction:rtl\">\n",
    "<font face=\"XB Zar\" size=3>\n",
    "<h3>مساله سه</h3>\n",
    "<ul>\n",
    "<li>یک آرایه را درنظر بگیرید و همه اعضای آن که از نوع int هستند را در قالب یک آرایه جدید خروجی دهید </li>\n",
    "</ul>\n",
    "</font>\n",
    "</div>\n",
    "\n"
   ]
  },
  {
   "cell_type": "code",
   "execution_count": 61,
   "metadata": {},
   "outputs": [
    {
     "name": "stdout",
     "output_type": "stream",
     "text": [
      "[2, 3, 4, 1, 99]\n"
     ]
    }
   ],
   "source": [
    "a = [2, 3, 'salam', None, 4, [1, 2, 3], 3.4, 1, 99]\n",
    "b = [x for x in a if isinstance(x, int)]\n",
    "print(b)"
   ]
  },
  {
   "cell_type": "markdown",
   "metadata": {},
   "source": [
    "<div class=\"persian\" style=\"direction:rtl\">\n",
    "<font face=\"XB Zar\" size=3>\n",
    "<h3>مقداردهی اولیه لیست‌ها </h3>\n",
    "</font>\n",
    "</div>\n",
    "\n",
    "\n"
   ]
  },
  {
   "cell_type": "code",
   "execution_count": 64,
   "metadata": {},
   "outputs": [
    {
     "name": "stdout",
     "output_type": "stream",
     "text": [
      "[0, 0, 0, 0, 0, 0, 0, 0, 0, 0]\n",
      "[0, 0, 11, 0, 11, 0, 0, 0, 0, 0]\n"
     ]
    }
   ],
   "source": [
    "#arr = [0] * 10\n",
    "arr = [0 for _ in range(10)]\n",
    "print(arr)\n",
    "\n",
    "arr[4] = arr[2] = 11\n",
    "print(arr)"
   ]
  },
  {
   "cell_type": "code",
   "execution_count": 65,
   "metadata": {},
   "outputs": [
    {
     "name": "stdout",
     "output_type": "stream",
     "text": [
      "[[13, 2, 3], [13, 2, 3], [13, 2, 3], [13, 2, 3]]\n",
      "[[13, 2, 3], [1, 2, 3], [1, 2, 3]]\n"
     ]
    }
   ],
   "source": [
    "# beware when using multiplication with lists and other objects\n",
    "arr = [[1,2,3]] * 4  # for example don't do this!\n",
    "arr[0][0] = 13\n",
    "print(arr)\n",
    "\n",
    "# instead you can do this (we'll cover what this means later):\n",
    "arr = [[1,2,3] for _ in range(3)]\n",
    "arr[0][0] = 13\n",
    "print(arr)"
   ]
  },
  {
   "cell_type": "markdown",
   "metadata": {},
   "source": [
    "<div class=\"persian\" style=\"direction:rtl\">\n",
    "<font face=\"XB Zar\" size=3>\n",
    "<h3>زوج (چند‌تایی)های مرتب</h3>\n",
    "زوج‌های مرتب درست همانند لیست‌های غیرقابل تغییرند.\n",
    "یکی از برتری‌های آن نسبت به لیست این است که زوج‌های مرتب Hashable اند. پس مثلا می‌توان آن‌ها را به عنوان کلید در یک Dictionary (که بعدا می‌بینیم) نگه‌داشت.\n",
    "<br/>\n",
    "</font>\n",
    "</div>"
   ]
  },
  {
   "cell_type": "code",
   "execution_count": 69,
   "metadata": {},
   "outputs": [
    {
     "name": "stdout",
     "output_type": "stream",
     "text": [
      "10\n",
      "(10, 6, 19)\n",
      "(10, 6, 19, (), 10, 6, 19, ())\n"
     ]
    },
    {
     "ename": "TypeError",
     "evalue": "'tuple' object does not support item assignment",
     "output_type": "error",
     "traceback": [
      "\u001b[1;31m---------------------------------------------------------------------------\u001b[0m",
      "\u001b[1;31mTypeError\u001b[0m                                 Traceback (most recent call last)",
      "\u001b[1;32m<ipython-input-69-e0190396dc1e>\u001b[0m in \u001b[0;36m<module>\u001b[1;34m()\u001b[0m\n\u001b[0;32m      4\u001b[0m \u001b[0mprint\u001b[0m\u001b[1;33m(\u001b[0m\u001b[0mt\u001b[0m\u001b[1;33m*\u001b[0m\u001b[1;36m2\u001b[0m\u001b[1;33m)\u001b[0m\u001b[1;33m\u001b[0m\u001b[0m\n\u001b[0;32m      5\u001b[0m \u001b[1;33m\u001b[0m\u001b[0m\n\u001b[1;32m----> 6\u001b[1;33m \u001b[0mt\u001b[0m\u001b[1;33m[\u001b[0m\u001b[1;36m1\u001b[0m\u001b[1;33m]\u001b[0m \u001b[1;33m=\u001b[0m \u001b[1;36m4\u001b[0m \u001b[1;31m# -> TypeError\u001b[0m\u001b[1;33m\u001b[0m\u001b[0m\n\u001b[0m\u001b[0;32m      7\u001b[0m \u001b[1;31m# t.append -> not supported\u001b[0m\u001b[1;33m\u001b[0m\u001b[1;33m\u001b[0m\u001b[0m\n",
      "\u001b[1;31mTypeError\u001b[0m: 'tuple' object does not support item assignment"
     ]
    }
   ],
   "source": [
    "t = (10,6,19, ())\n",
    "print(t[0])\n",
    "print(t[0:-1])\n",
    "print(t*2)\n",
    "\n",
    "t[1] = 4 # -> TypeError\n",
    "# t.append -> not supported"
   ]
  },
  {
   "cell_type": "code",
   "execution_count": 71,
   "metadata": {},
   "outputs": [
    {
     "ename": "ValueError",
     "evalue": "not enough values to unpack (expected 5, got 4)",
     "output_type": "error",
     "traceback": [
      "\u001b[1;31m---------------------------------------------------------------------------\u001b[0m",
      "\u001b[1;31mValueError\u001b[0m                                Traceback (most recent call last)",
      "\u001b[1;32m<ipython-input-71-39320bf9ebd9>\u001b[0m in \u001b[0;36m<module>\u001b[1;34m()\u001b[0m\n\u001b[1;32m----> 1\u001b[1;33m \u001b[0ma\u001b[0m\u001b[1;33m,\u001b[0m \u001b[0mb\u001b[0m\u001b[1;33m,\u001b[0m \u001b[0mc\u001b[0m\u001b[1;33m,\u001b[0m \u001b[0md\u001b[0m\u001b[1;33m,\u001b[0m \u001b[0me\u001b[0m\u001b[1;33m=\u001b[0m \u001b[0mt\u001b[0m\u001b[1;33m\u001b[0m\u001b[0m\n\u001b[0m\u001b[0;32m      2\u001b[0m \u001b[0mprint\u001b[0m\u001b[1;33m(\u001b[0m\u001b[0ma\u001b[0m\u001b[1;33m)\u001b[0m\u001b[1;33m\u001b[0m\u001b[0m\n\u001b[0;32m      3\u001b[0m \u001b[0mprint\u001b[0m\u001b[1;33m(\u001b[0m\u001b[0mb\u001b[0m\u001b[1;33m)\u001b[0m\u001b[1;33m\u001b[0m\u001b[0m\n\u001b[0;32m      4\u001b[0m \u001b[0mprint\u001b[0m\u001b[1;33m(\u001b[0m\u001b[0mc\u001b[0m\u001b[1;33m)\u001b[0m\u001b[1;33m\u001b[0m\u001b[0m\n\u001b[0;32m      5\u001b[0m \u001b[0mprint\u001b[0m\u001b[1;33m(\u001b[0m\u001b[0md\u001b[0m\u001b[1;33m)\u001b[0m\u001b[1;33m\u001b[0m\u001b[0m\n",
      "\u001b[1;31mValueError\u001b[0m: not enough values to unpack (expected 5, got 4)"
     ]
    }
   ],
   "source": [
    "a, b, c, d, e= t\n",
    "print(a)\n",
    "print(b)\n",
    "print(c)\n",
    "print(d)\n",
    "print('---')\n",
    "a, b, c = c, b, a  # 3-way swap in one statement!\n",
    "print(a)\n",
    "print(b)\n",
    "print(c)"
   ]
  },
  {
   "cell_type": "markdown",
   "metadata": {},
   "source": [
    "<div class=\"persian\" style=\"direction:rtl\">\n",
    "<font face=\"XB Zar\" size=3>\n",
    "<h3>مجموعه‌ها</h3>\n",
    "مجموعه‌ها در پایتون همانند HashSet در Java یا set در سی‌پلاس‌پلاس اند.\n",
    "<br/>\n",
    "مجموعه‌ها می‌توانند حداکثر یکی از هر چیز را نگه‌داری کنند (البته هر چیزی که در آن ذخیره می‌شود باید Hashable باشد.\n",
    "پس لیست‌ها و مجموعه‌های دیگر و Dictionary‌ها را نمی‌توان در یک مجموعه نگه‌داشت)\n",
    "</font>\n",
    "</div>"
   ]
  },
  {
   "cell_type": "code",
   "execution_count": 80,
   "metadata": {},
   "outputs": [
    {
     "name": "stdout",
     "output_type": "stream",
     "text": [
      "{(1, 2), 1, 2, 3, 'hasan'}\n",
      "5\n",
      "True\n",
      "False\n",
      "-- add:\n",
      "{(1, 2), 1, 2, 3, 4, 'hasan'}\n",
      "True\n",
      "-- remove:\n",
      "{(1, 2), 1, 2, 4, 'hasan'}\n",
      "False\n",
      "(1, 2) - 1 - 2 - 4 - hasan - "
     ]
    }
   ],
   "source": [
    "s = {1,2,3,3, (1,2), 'hasan'}\n",
    "print(s)\n",
    "print(len(s))\n",
    "print(1 in s)\n",
    "print(4 in s)\n",
    "\n",
    "print('-- add:')\n",
    "s.add(4)\n",
    "print(s)\n",
    "print(4 in s)\n",
    "\n",
    "print('-- remove:')\n",
    "s.remove(3)\n",
    "print(s)\n",
    "print(3 in s)\n",
    "\n",
    "for x in s:\n",
    "    print(x, end=' - ')"
   ]
  },
  {
   "cell_type": "markdown",
   "metadata": {},
   "source": [
    "<div class=\"persian\" style=\"direction:rtl\">\n",
    "<font face=\"XB Zar\" size=3>\n",
    "<h3>دیکشنری</h3>\n",
    "دیکشنری‌ها\n",
    "(یا به اختصار dict)\n",
    "در پایتون بسیار مفیداند و همانند HashMap در Java و map در سی‌پلاس‌پلاس عمل می‌کنند.\n",
    "<br/>\n",
    "در یک dict شما می‌توانید زوج‌های مرتب کلید و مقدار را ذخیره کرده و بعدا بر اساس کلید، مقدار‌ها را پیدا کنید.\n",
    "فقط دقت کنید که کلید باید Hashable باشد.\n",
    "</font>\n",
    "</div>"
   ]
  },
  {
   "cell_type": "code",
   "execution_count": 96,
   "metadata": {},
   "outputs": [
    {
     "name": "stdout",
     "output_type": "stream",
     "text": [
      "1 2\n",
      "(1, 2, 3) [3, 4, 5]\n",
      "salam 10\n",
      "2\n"
     ]
    }
   ],
   "source": [
    "a = {1: 2, 'salam': 10, (1, 2, 3): [3, 4, 5]}\n",
    "for key, value in a.items():\n",
    "    print(key, value)\n",
    "\n",
    "a['ali'] = 1\n",
    "a['ali'] = 2\n",
    "print(a['ali'])"
   ]
  },
  {
   "cell_type": "markdown",
   "metadata": {},
   "source": [
    "<div class=\"persian\" style=\"direction:rtl\">\n",
    "<font face=\"XB Zar\" size=3>\n",
    "<h3>مساله یک</h3>\n",
    "یک دیکشنری را درنظر بگیرید و از روی آن دیکشنری معکوسش را بسازید و بررسی بکنید تابع نگاشت یک به یک بوده یا خیر\n",
    "</font>\n",
    "</div>\n",
    "\n",
    "\n"
   ]
  },
  {
   "cell_type": "code",
   "execution_count": 103,
   "metadata": {},
   "outputs": [
    {
     "name": "stdout",
     "output_type": "stream",
     "text": [
      "{2, 3, 5}\n",
      "False\n"
     ]
    }
   ],
   "source": [
    "a = {1:2, 2:3, 5:3, 4:5}\n",
    "\n",
    "b = {}\n",
    "for key, value in a.items():\n",
    "    b[value] = key\n",
    "\n",
    "b = {value: key for key, value in a.items()}\n",
    "print(b)\n",
    "print(len(a) == len(b))"
   ]
  },
  {
   "cell_type": "markdown",
   "metadata": {},
   "source": [
    "<div class=\"persian\" style=\"direction:rtl\">\n",
    "<font face=\"XB Zar\" size=3>\n",
    "<h3>مساله دو</h3>\n",
    "تعدادی اسم و فامیل را از ورودی بخواند و بگوید به ازای هر فامیلی چند اسم متمایز وجود داشته است.\n",
    "<br>\n",
    "برای اینکه اسم و فامیل را در یک خط ورودی بخوانید، از تابع split برای رشته‌ها استفاده کنید\n",
    "</font>\n",
    "</div>\n",
    "\n",
    "\n"
   ]
  },
  {
   "cell_type": "code",
   "execution_count": 2,
   "metadata": {},
   "outputs": [
    {
     "name": "stdout",
     "output_type": "stream",
     "text": [
      "1\n",
      "ali ahmadi\n",
      "<class 'dict'>\n",
      "{'ahmadi': {'ali'}}\n"
     ]
    }
   ],
   "source": [
    "n = int(input())\n",
    "names = [input().split() for i in range(n)]\n",
    "\n",
    "count = {}\n",
    "print(type(count))\n",
    "for name, family in names:\n",
    "    if family in count:\n",
    "        count[family].add(name)\n",
    "    else:\n",
    "        count[family] = {name}\n",
    "        \n",
    "print(count)"
   ]
  },
  {
   "cell_type": "markdown",
   "metadata": {},
   "source": [
    "<div class=\"persian\" style=\"direction:rtl\">\n",
    "<font face=\"XB Zar\" size=3>\n",
    "<h3>توابع</h3>\n",
    "توابع در پایتون با کلمه‌ی کلیدی\n",
    "<span class=\"codeM\">def</span>\n",
    "تعریف می‌شوند.\n",
    "<br/>\n",
    "برای ورودی دادن به تابع می توانید از همان روش ساده‌ی ورودی‌های مرتب استفاده کنید. اما می‌توانید آن‌ها را با استفاده از نام‌شان نیز مقداردهی کنید.\n",
    "<br/>\n",
    "همچنین می‌توانید توابع را همانند دیگر اشیا در متغیر‌ها ذخیره کنید یا به توابع دیگر پاس بدهید.\n",
    "<br/>\n",
    "همچنین می‌توانید در داخل یک تابع، یک تابع دیگر تعریف کنید یا توابع بی‌نام\n",
    "(anonymous function)\n",
    "داشته باشید که البته خیلی هم به دردتان نمی‌خورد.\n",
    "(توابع بی‌نام با کلمه‌ی کلیدی\n",
    "<span class=\"codeM\">lambda</span>\n",
    "تعریف می‌شوند)\n",
    "</font>\n",
    "</div>"
   ]
  },
  {
   "cell_type": "code",
   "execution_count": 11,
   "metadata": {},
   "outputs": [
    {
     "name": "stdout",
     "output_type": "stream",
     "text": [
      "2\n",
      "equal\n"
     ]
    }
   ],
   "source": [
    "def find_max(a, b):\n",
    "    if a > b:\n",
    "        return a\n",
    "    elif a < b:\n",
    "        return b\n",
    "    else:\n",
    "        return \"equal\"\n",
    "    \n",
    "print(find_max(1, 2))\n",
    "print(find_max(3, 3))"
   ]
  },
  {
   "cell_type": "markdown",
   "metadata": {},
   "source": [
    "<div class=\"persian\" style=\"direction:rtl\">\n",
    "<font face=\"XB Zar\" size=3>\n",
    "نوع متغیرهای ورودی توابع مهم نیست و برنامه‌نویس باید خودش شخصا مراقب نوع این متغیرها باشد.\n",
    "<br>\n",
    "البته این قابلیت آزادی عمل بسیار زیادی به برنامه‌نویس می‌دهد و می‌تواند جهت ساده شدن کد از آن استفاده‌ی زیادی ببرد\n",
    "<h3>مساله یک</h3>\n",
    "تابعی بنویسید که یک تابع ورودی گرفته و آنرا روی تک‌تک اعضای ورودی دوم خود اعمال کند\n",
    "</font>\n",
    "</div>"
   ]
  },
  {
   "cell_type": "code",
   "execution_count": 13,
   "metadata": {},
   "outputs": [
    {
     "data": {
      "text/plain": [
       "[3, 2, 3]"
      ]
     },
     "execution_count": 13,
     "metadata": {},
     "output_type": "execute_result"
    }
   ],
   "source": [
    "def mapper(func, collection):\n",
    "    output = []\n",
    "    for element in collection:\n",
    "        output += [func(element)]\n",
    "    return output\n",
    "\n",
    "mapper(max, [[1, 2, 3], [-1, 0, 2], (3, 0, 3)])"
   ]
  },
  {
   "cell_type": "markdown",
   "metadata": {},
   "source": [
    "<div class=\"persian\" style=\"direction:rtl\">\n",
    "<font face=\"XB Zar\" size=3>\n",
    "تابع بالا در زبان پایتون تحت عنوان تابع map پیاده سازی شده است\n",
    "<br>\n",
    "حالا می‌توانیم برنامه‌ای بنویسیم که یک آرایه را در یک خط ورودی گرفته و جمع اعضای آن را محاسبه کند\n",
    "</font>\n",
    "</div>"
   ]
  },
  {
   "cell_type": "code",
   "execution_count": 5,
   "metadata": {},
   "outputs": [
    {
     "name": "stdout",
     "output_type": "stream",
     "text": [
      "1 2 3\n",
      "<class 'int'>\n"
     ]
    }
   ],
   "source": [
    "arr = list(map(int, input().split()))\n",
    "print(type(arr[0]))"
   ]
  },
  {
   "cell_type": "markdown",
   "metadata": {},
   "source": [
    "<div class=\"persian\" style=\"direction:rtl\">\n",
    "<font face=\"XB Zar\" size=3>\n",
    "<h3>انواع پارامتر‌های ورودی توابع</h3>\n",
    "در حین صدا زدن تابع، برای مقدار‌دهی پارامتر‌های ورودی آن می‌توانید طبق ترتیب تعریف آنها مقداردهی کنید(روش عادی) و\n",
    "یا با استفاده از اسم آنها مقدار دهی کنید \n",
    "<br>\n",
    "روش دوم برای مواقعی که تعداد ورودی ها زیاد است و حفظ کردن ترتیب آن‌ها ساده نیست بسیار مفید است\n",
    "<br>\n",
    "هم چنین روش دوم برای مواقعی که تعداد زیادی از ورودی‌ها مقدار پیش‌فرض دارند و ما فقط می‌خواهیم مقدار تعداد کمی از پارامترها را صراحتا تعیین کنیم مفید است\n",
    "</font>\n",
    "</div>"
   ]
  },
  {
   "cell_type": "code",
   "execution_count": 4,
   "metadata": {},
   "outputs": [],
   "source": [
    "def add_to_class(student, clas, force=False, check_grades=False, absense=0):\n",
    "    # do something...\n",
    "    pass\n",
    "\n",
    "add_to_class('ali', absense=2, clas='40254-1')"
   ]
  },
  {
   "cell_type": "markdown",
   "metadata": {},
   "source": [
    "<div class=\"persian\" style=\"direction:rtl\">\n",
    "<font face=\"XB Zar\" size=3>\n",
    "توابع در پایتون هم‌چنین می‌توانند آرگومان‌های ورودی متغیر (varargs) داشته باشند\n",
    "<br>\n",
    "مثال: یک تابع که همه اعداد ورودی اش را جمع ‌میزند\n",
    "</font>\n",
    "</div>"
   ]
  },
  {
   "cell_type": "code",
   "execution_count": null,
   "metadata": {},
   "outputs": [],
   "source": [
    "def sum(n, *args, **kwargs):\n",
    "    out = 0\n",
    "    for a in args:\n",
    "        out += a\n",
    "    return out\n",
    "\n",
    "print(sum(1, 2, 3, 4, 5, name='salam'))"
   ]
  },
  {
   "cell_type": "markdown",
   "metadata": {},
   "source": [
    "<div class=\"persian\" style=\"direction:rtl\">\n",
    "<font face=\"XB Zar\" size=3>\n",
    "مطابق پارامتر‌های عادی، آرگومان های متغیر هم می‌توانند با اسم مشخص شوند که به آنها keyword arguments می‌گویند\n",
    "<br>\n",
    "فایده این روش چیست؟\n",
    "\n",
    "</font>\n",
    "</div>"
   ]
  },
  {
   "cell_type": "markdown",
   "metadata": {},
   "source": [
    "<div class=\"persian\" style=\"direction:rtl\">\n",
    "<font face=\"XB Zar\" size=3>\n",
    "<h3>\n",
    "دربرگیرنده‌ها\n",
    "(Wrappers یا Decorators)\n",
    "</h3>\n",
    "شما در پایتون می‌توانید تابعی تعریف کنید که یک تابع دیگر را در بر میگیرد و در هنگام فراخوانی آن تابع، تابع دربرگیرنده فراخوانی می‌شود و ورودی اول تابع دربرگیرنده، تابع اصلی خواهد بود\n",
    "</font>\n",
    "</div>"
   ]
  },
  {
   "cell_type": "code",
   "execution_count": 28,
   "metadata": {},
   "outputs": [
    {
     "data": {
      "text/plain": [
       "2"
      ]
     },
     "execution_count": 28,
     "metadata": {},
     "output_type": "execute_result"
    }
   ],
   "source": [
    "def salam():\n",
    "    def g(f):\n",
    "        return f\n",
    "    return g\n",
    "\n",
    "@salam()\n",
    "def f(a, b):\n",
    "    return 2\n",
    "\n",
    "f(1, 2) # --> salam(f)(1,2)"
   ]
  },
  {
   "cell_type": "markdown",
   "metadata": {},
   "source": [
    "<div class=\"persian\" style=\"direction:rtl\">\n",
    "<font face=\"XB Zar\" size=3>\n",
    "یک مثال عملی از دربرگیرنده، تابعی است که زمان اجرای تابع دیگری را حساب می‌کند. به نوع ورودی تابع درونی wrapper دقت کنید</font>\n",
    "</div>"
   ]
  },
  {
   "cell_type": "code",
   "execution_count": 50,
   "metadata": {},
   "outputs": [
    {
     "name": "stdout",
     "output_type": "stream",
     "text": [
      "time = 0.0\n",
      "2\n",
      "time = 0.015040874481201172\n",
      "2\n"
     ]
    }
   ],
   "source": [
    "from time import time as python_time\n",
    "\n",
    "def timer(func):\n",
    "    def wrapper(*args, **kwargs):\n",
    "        start = python_time()\n",
    "        ret = func(*args, **kwargs)  # change the input!\n",
    "        end = python_time()\n",
    "        print(\"time = \" + str(end - start))\n",
    "        return ret\n",
    "    return wrapper\n",
    "    \n",
    "@timer\n",
    "def func(a, b):\n",
    "    for i in range(a, b):\n",
    "        [1, 2, 3, 4, 5]\n",
    "    return 2\n",
    "\n",
    "print(func(1, 10)) # --> timer(func)(1, 10) --> wrapper (1, 10)\n",
    "print(func(1, b=100000))"
   ]
  },
  {
   "cell_type": "markdown",
   "metadata": {},
   "source": [
    "<div class=\"persian\" style=\"direction:rtl\">\n",
    "<font face=\"XB Zar\" size=3>\n",
    "<h3>کلاس‌ها</h3>\n",
    "برای تعریف یک کلاس در پایتون از کلمه‌ی کلیدی class استفاده می‌شود.\n",
    "بعضی از نام‌های توابع هر کلاس معانی خاصی دارند. این توابع همه در ابتدا و انتهایشان دو کاراکتر \n",
    "underline (_)\n",
    "دارند.\n",
    "برای مثال از این بین تابع\n",
    "<span class=\"codeM\">&#95;&#95;init&#95;&#95;</span>\n",
    "که کار همان constructor\n",
    "در زبان‌های دیگر را انجام می‌دهد.\n",
    "مثال‌های دیگر این نوع توابع:\n",
    "    <div class=\"codeM english\">\n",
    "        &#95;&#95;del&#95;&#95; (destructor),\n",
    "        &#95;&#95;eq&#95;&#95; (تابع مساوی),\n",
    "        &#95;&#95;str&#95;&#95; (<span class=\"persian\">toString در Java</span>)\n",
    "    </div>\n",
    "<div class=\"persian\" style=\"direction:rtl\">\n",
    "همچنین یکی از چیز‌هایی که شاید در پایتون با بقیه‌ی زبان‌ها فرق کند این است که در پایتون یک متغیر خاص به نام\n",
    "this\n",
    "نداریم. به جای آن خود شی به عنوان اولین ورودی به تابع پاس داده می‌شود. این ورودی چیز خاصی نیست اما در زبان پایتون از آن با نام \n",
    "self\n",
    "یاد می‌شود و بهتر است شما نیز این قاعده را رعایت کنید. پس هر تابع یکی کلاس حداقل یک ورودی دارد که اولین‌شان همان self است.\n",
    "</div>\n",
    "</font>\n",
    "</div>"
   ]
  },
  {
   "cell_type": "code",
   "execution_count": 38,
   "metadata": {},
   "outputs": [
    {
     "name": "stdout",
     "output_type": "stream",
     "text": [
      "2\n",
      "samand\n",
      "[1, 2, 3, 2]\n"
     ]
    }
   ],
   "source": [
    "class Car:\n",
    "    model = \"samand\"\n",
    "    \n",
    "class MyHuman:\n",
    "    name = \"ali\"\n",
    "    age = 10\n",
    "    car = [1, 2, 3]\n",
    "\n",
    "a = Human()\n",
    "b = Human()\n",
    "Human.salam = 2\n",
    "\n",
    "print(a.salam)\n",
    "\n",
    "a.car.append(2)\n",
    "#a.car = 2\n",
    "print(Car.model)\n",
    "print(b.car)\n"
   ]
  },
  {
   "cell_type": "markdown",
   "metadata": {},
   "source": [
    "<div class=\"persian\" style=\"direction:rtl\">\n",
    "<font face=\"XB Zar\" size=3>\n",
    "هر کلاس می‌تواند تعدادی فیلد (همان متغیرهای کلاس) داشته باشد. شما می‌توانید در هر لحظه از کد به یک شی متغیری را اضافه کنید (مگر این که از قصد این قابلیت از شما گرفته شده باشد) ولی بهتر است که تمام فیلد‌های یک کلاس در داخل constructor\n",
    "تعریف شوند (یعنی مقدار اولیه بگیرند).\n",
    "همانطور که در مثال بالا دیدید، تعریف متغیر در فضای داخل کلاس باعث می‌شود که آن متغیر بین تمام متغیرهای کلاس  به اشتراک گذاشته شود. برای تعریف متغیر در سطح instance باید در توابع کلاس این‌کار را انجام داد\n",
    "</font>\n",
    "</div>"
   ]
  },
  {
   "cell_type": "code",
   "execution_count": 45,
   "metadata": {},
   "outputs": [
    {
     "name": "stdout",
     "output_type": "stream",
     "text": [
      "b is 0\n",
      "samand\n",
      "<__main__.Car object at 0x0000018E413BBE48> 0 4 10 3\n"
     ]
    }
   ],
   "source": [
    "class Test:\n",
    "    def __init__(self, *args):\n",
    "        self.b = Car()  # this is the best way\n",
    "        self.c = 0\n",
    "        self.other_value = 10\n",
    "            \n",
    "    def __str__(self):\n",
    "        return \"b is {}\".format(self.c)\n",
    "        \n",
    "    def add_attribute(self, val):\n",
    "        self.e = val\n",
    "\n",
    "o = Test(2, 3)\n",
    "print(o)\n",
    "o.d = 4 # you can even set an attribute outside of the class!\n",
    "o.add_attribute(3)\n",
    "Test.add_attribute(o, 3)\n",
    "o.b.model = \"salam\"\n",
    "r = Test(2, 3)\n",
    "\n",
    "print(r.b.model)\n",
    "\n",
    "print (o.b, o.c, o.d, o.other_value, o.e)"
   ]
  },
  {
   "cell_type": "markdown",
   "metadata": {},
   "source": [
    "<div class=\"persian\" style=\"direction:rtl\">\n",
    "<font face=\"XB Zar\" size=3>\n",
    "<h3>مساله یک</h3>\n",
    "یک کلاس بسازید که متغیرهای کلاسی آن(در صورت عدم وجود) به صورت کاملا پویا و با مقدار پیش‌فرض اضافه شوند\n",
    "</font>\n",
    "</div>\n",
    "\n",
    "\n"
   ]
  },
  {
   "cell_type": "code",
   "execution_count": null,
   "metadata": {},
   "outputs": [],
   "source": [
    "class Obj:\n",
    "    def add_field(self, field_name, value):\n",
    "        setattr(self, field_name, 323)\n",
    "\n",
    "o = Obj()\n",
    "o.add_field('salam', 12)\n",
    "print(o.salam)"
   ]
  },
  {
   "cell_type": "markdown",
   "metadata": {},
   "source": [
    "<div class=\"persian\" style=\"direction:rtl\">\n",
    "<font face=\"XB Zar\" size=3>\n",
    "<h3>مساله دو</h3>\n",
    "یک تابع بنویسید که اسم کلاس، فیلدها و مقدارهای پیش‌فرض مدنظر را بگیرد و کار مساله قبلی را انجام دهد\n",
    "</font>\n",
    "</div>\n",
    "\n",
    "\n",
    "\n"
   ]
  },
  {
   "cell_type": "code",
   "execution_count": 48,
   "metadata": {},
   "outputs": [
    {
     "name": "stdout",
     "output_type": "stream",
     "text": [
      "sag <class '__main__.Test'> 22\n"
     ]
    }
   ],
   "source": [
    "def func(cls, *args, **kwargs):\n",
    "    instance = cls(*args)\n",
    "    for key, value in kwargs.items():\n",
    "        setattr (instance, key, value)\n",
    "    return instance\n",
    "        \n",
    "a = func(Test, 2, 3, name='salam', age=12, car=222)\n",
    "b = func(Test, khar='sag')\n",
    "c = func(Human, human=1, m='22')\n",
    "\n",
    "print(b.khar, type(b), c.m)\n"
   ]
  },
  {
   "cell_type": "markdown",
   "metadata": {},
   "source": [
    "<div class=\"persian\" style=\"direction:rtl\">\n",
    "<font face=\"XB Zar\" size=3>\n",
    "در پایتون می‌توانید وراثت نیز داشته باشید. برای این کار فقط کافی است نام کلاس پدر را در داخل یک جفت پرانتز جلوی تعریف نام کلاس قرار دهید (به مثال نگاه کنید).\n",
    "<br/>\n",
    "در پایتون همانند C++\n",
    "یک کلاس می‌تواند از چند کلاس ارث ببرد\n",
    ".فایده اش چیست؟\n",
    "</font>\n",
    "</div>"
   ]
  },
  {
   "cell_type": "code",
   "execution_count": null,
   "metadata": {
    "collapsed": true
   },
   "outputs": [],
   "source": []
  },
  {
   "cell_type": "code",
   "execution_count": 49,
   "metadata": {},
   "outputs": [
    {
     "name": "stdout",
     "output_type": "stream",
     "text": [
      "in A\n",
      "child add\n",
      "dad add\n"
     ]
    }
   ],
   "source": [
    "class A(object):\n",
    "    def __init__(self):\n",
    "        print('in A')\n",
    "\n",
    "    def add(self):\n",
    "        print(\"dad add\")\n",
    "        \n",
    "class B(A, Test):\n",
    "    def __init__(self):\n",
    "        super().__init__()\n",
    "\n",
    "    def add(self):\n",
    "        print(\"child add\")\n",
    "        super().add()\n",
    "        \n",
    "b = B()\n",
    "b.add()"
   ]
  },
  {
   "cell_type": "markdown",
   "metadata": {},
   "source": [
    "<div class=\"persian\" style=\"direction:rtl\">\n",
    "<font face=\"XB Zar\" size=3>\n",
    "<h3>Import</h3>\n",
    "یکی از قوی‌ترین جنبه‌های زبان پایتون کتابخانه‌هایی اند که برای انجام تقریبا هرگونه کاری در پایتون نوشته شده‌اند. برای استفاده از این کتابخانه‌ها ابتدا باید آن‌ها را بر روی کامپیوتر (در کتابخانه‌های نسخه‌ی پایتون خود) نصب کنید. برای این کار چند روش متداول وجود دارد:\n",
    "<ul>\n",
    "    <li>استفاده از دستور pip: <br/><div class=\"codeM english\">pip install &lt;libraryName&gt;[==version]</div></li>\n",
    "    <li>استفاده از دستور easy_install:<br/><div class=\"codeM english\">easy_install &lt;libraryName&gt;</div></li>\n",
    "    <li>دانلود کردن و setup کردن به صورت دستی: <br/><div class=\"codeM english\"># download<br/># unzip or untar<br/># cd folder<br/>python setup.py install</div></li>\n",
    "</ul>\n",
    "<br/>\n",
    "حال می‌توانید از کتابخانه‌ی مورد نظر استفاده کنید. برای این کار باید ابتدا هر کتابخانه‌ای را که می‌خواهید از آن استفاده کنید را Import (همانند include در C++) کنید و سپس از آن استفاده کنید\n",
    "<h3>مساله</h3>\n",
    "زمان اجرای الگوریتم های مرتب‌سازی حبابی و درجی را از روی نمودار با هم مقایسه کنید\n",
    "\n",
    "</font>\n",
    "</div>"
   ]
  },
  {
   "cell_type": "code",
   "execution_count": 3,
   "metadata": {},
   "outputs": [
    {
     "data": {
      "image/png": "[encoded data removed]",
      "text/plain": [
       "<matplotlib.figure.Figure at 0x106c9b828>"
      ]
     },
     "metadata": {},
     "output_type": "display_data"
    }
   ],
   "source": [
    "import random\n",
    "import time\n",
    "import matplotlib.pyplot as plot\n",
    "\n",
    "def timer(func):\n",
    "    def wrapper(*args):\n",
    "        start = time.time()\n",
    "        ret = func(*args)  # change the input!\n",
    "        end = time.time()\n",
    "        return end - start\n",
    "    return wrapper\n",
    "\n",
    "@timer\n",
    "def bubble(a):\n",
    "    for i in range(len(a)):\n",
    "        for j in range(len(a)-i-1):\n",
    "            if a[j] > a[j+1]:\n",
    "                a[j], a[j+1] = a[j+1], a[j]\n",
    "\n",
    "\n",
    "@timer\n",
    "def selection(a):\n",
    "    for i in range(len(a)):\n",
    "        max_index = -1\n",
    "        for j in range(len(a)-i):\n",
    "            if max_index == -1 or a[j] > a[max_index]:\n",
    "                max_index = j\n",
    "        a[len(a)-i-1], a[max_index] = a[max_index], a[len(a)-i-1]\n",
    "@timer\n",
    "def insertion(a):\n",
    "    n = len(a)\n",
    "    for i in range(n):\n",
    "        while i > 0 and a[i] < a[i-1]:\n",
    "            a[i], a[i-1] = a[i-1], a[i]\n",
    "            i -= 1\n",
    "        \n",
    "arr = [random.randint(1, 10000) for i in range(5000)]\n",
    "plot.plot([bubble(arr[:i]) for i in range(500)], 'r', [selection(arr[:i]) for i in range(500)], 'b', \n",
    "         [insertion(arr[:i]) for i in range(500)], 'y')\n",
    "plot.show()"
   ]
  },
  {
   "cell_type": "code",
   "execution_count": null,
   "metadata": {
    "collapsed": true
   },
   "outputs": [],
   "source": []
  }
 ],
 "metadata": {
  "kernelspec": {
   "display_name": "Python 3",
   "language": "python",
   "name": "python3"
  },
  "language_info": {
   "codemirror_mode": {
    "name": "ipython",
    "version": 3
   },
   "file_extension": ".py",
   "mimetype": "text/x-python",
   "name": "python",
   "nbconvert_exporter": "python",
   "pygments_lexer": "ipython3",
   "version": "3.6.4"
  }
 },
 "nbformat": 4,
 "nbformat_minor": 1
}
